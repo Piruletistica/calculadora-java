{
  "nbformat": 4,
  "nbformat_minor": 0,
  "metadata": {
    "colab": {
      "provenance": [],
      "include_colab_link": true
    },
    "kernelspec": {
      "name": "python3",
      "display_name": "Python 3"
    },
    "language_info": {
      "name": "python"
    }
  },
  "cells": [
    {
      "cell_type": "markdown",
      "metadata": {
        "id": "view-in-github",
        "colab_type": "text"
      },
      "source": [
        "<a href=\"https://colab.research.google.com/github/Piruletistica/calculadora-java/blob/master/trabajo_algoritmos.ipynb\" target=\"_parent\"><img src=\"https://colab.research.google.com/assets/colab-badge.svg\" alt=\"Open In Colab\"/></a>"
      ]
    },
    {
      "cell_type": "markdown",
      "source": [
        "si saco lo q está comentado no corre, lo estoy haciendo en idle de python, pero por aca es más facil compartir el codigo."
      ],
      "metadata": {
        "id": "xA8Oi1DEp4ac"
      }
    },
    {
      "cell_type": "code",
      "execution_count": 8,
      "metadata": {
        "id": "ZeDMY41tpjiQ",
        "colab": {
          "base_uri": "https://localhost:8080/"
        },
        "outputId": "0f96d5f0-b905-4269-a7dd-9d86caace91d"
      },
      "outputs": [
        {
          "output_type": "stream",
          "name": "stdout",
          "text": [
            "['123456', 'Don Quijote de La Mancha', 'Miguel de Cervantes', '1605']\n",
            "['119987', 'Historia de dos ciudades', 'Charles Dickens', '1859']\n",
            "['287651', 'El Senor de los Anillos', 'J.R.R. Tolkien', '1954']\n",
            "['176539', 'El Principito', 'Antoine de Saint-Exupery', '1943']\n",
            "['276539', 'El Hobbit', 'J.R.R. Tolkien', '1937']\n",
            "['187600', 'Sueno en el pabellon rojo', 'Cao Xueqin', '1792']\n",
            "['253617', 'Las aventuras de Alicia en el pais de las maravillas', 'Lewis Carroll', '1865']\n",
            "['117766', 'Diez negritos', 'Agatha Christie', '1939']\n",
            "['251982', 'El leon la bruja y el ropero', 'C.S. Lewis', '1950']\n",
            "['138754', 'Ella', 'H. Rider Haggard', '1887']\n",
            "['328976', 'El codigo Da Vinci', 'Dan Brown', '2003']\n",
            "['266678', 'El Guardian entre el Centeno', 'J. D. Salinger', '1951']\n",
            "['289567', 'El alquimista', 'Paulo Coelho', '2000']\n",
            "['154506', 'El camino a Cristo', 'Ellen G. White', '1892']\n",
            "['200721', 'Heidi', 'Johanna Spyri', '1880']\n",
            "['234556', 'Azabache', 'Anna Sewell', '1877']\n",
            "['119342', 'El nombre de la rosa', 'Umberto Eco', '1982']\n"
          ]
        }
      ],
      "source": [
        "import csv\n",
        "with open('libros.csv', 'r') as file:\n",
        "    csv_reader = csv.reader(file)\n",
        "    #next(csv_reader)  # Omitir la primera fila\n",
        "    for row in csv_reader:\n",
        "        print(row)"
      ]
    },
    {
      "cell_type": "code",
      "source": [
        "class Libro:\n",
        "  def __init__(self, id=None, titulo=None, autor=None, año=None, izq=None, der=None):\n",
        "    self.id = id\n",
        "    self.titulo = titulo\n",
        "    self.autor = autor\n",
        "    self.año = año\n",
        "    self.izq = izq\n",
        "    self.der = der\n",
        "\n",
        "  def __str__(self):\n",
        "    return str(f\"{self.titulo}, {self.autor}, {self.año}\")\n",
        "\n",
        "class ABO:\n",
        "  def __init__(self):\n",
        "    self.raiz = None\n",
        "\n",
        "  def insertar(self, rama, id, titulo, autor, año):\n",
        "    libro = Libro(id, titulo, autor, año)\n",
        "    if self.raiz == None:\n",
        "      self.raiz = libro\n",
        "      return \n",
        "    if libro.id < rama.id:\n",
        "        if rama.izq == None:\n",
        "          rama.izq = libro\n",
        "        else:\n",
        "          self.insertar(rama.izq, libro.id, libro.titulo, libro.autor, libro.año)\n",
        "    else: \n",
        "      if rama.der == None:\n",
        "        rama.der = libro\n",
        "      else:\n",
        "        self.insertar(rama.der, libro.id, libro.titulo, libro.autor, libro.año)\n",
        "\n",
        "  def buscaLibro(self, rama, id):\n",
        "    if rama == None:\n",
        "      return False\n",
        "    if rama.id == id:\n",
        "      return (rama.titulo, rama.autor, rama.año)\n",
        "    if id < rama.id:\n",
        "      return self.buscaLibro(rama.izq, id)\n",
        "    else:\n",
        "      return self.buscaLibro(rama.der, id)\n",
        "    \n",
        "  def mostrar_preorden(self, rama):\n",
        "    if rama:\n",
        "      print(f\"{rama.id} - \",end=\"\")\n",
        "      self.mostrar_preorden(rama.izq)\n",
        "      self.mostrar_preorden(rama.der)\n",
        "    \n",
        "  def mostrar_inorden(self,rama):\n",
        "    if rama:\n",
        "      self.mostrar_inorden(rama.izq)\n",
        "      print(f\"{rama.id} - \",end=\"\")\n",
        "      self.mostrar_inorden(rama.der)"
      ],
      "metadata": {
        "id": "fJhqvKEfmVz2"
      },
      "execution_count": 2,
      "outputs": []
    },
    {
      "cell_type": "code",
      "source": [
        "arbol = ABO()\n",
        "#arbol.insertar(arbol.raiz,'176539', 'El Principito', 'Antoine de Saint-Exupery', '1943')\n",
        "\n",
        "\n",
        "import csv\n",
        "with open('libros.csv', 'r') as file:\n",
        "    csv_reader = csv.reader(file)\n",
        "    #next(csv_reader)  # Omitir la primera fila\n",
        "    for row in csv_reader:\n",
        "        \n",
        "        arbol.insertar(arbol.raiz, int(row[0]), row[1], row[2], int(row[3]))\n",
        "\n",
        "arbol.mostrar_inorden(arbol.raiz)\n",
        "print()\n",
        "arbol.mostrar_preorden(arbol.raiz)\n",
        "print()\n",
        "print()\n",
        "R = arbol.buscaLibro(arbol.raiz,int(\"000000\"))\n",
        "print (R)\n",
        "print()\n",
        "R = arbol.buscaLibro(arbol.raiz,int(\"276539\"))\n",
        "print (R)\n",
        "print()\n",
        "R = arbol.buscaLibro(arbol.raiz,int(\"266678\"))\n",
        "print (R)"
      ],
      "metadata": {
        "colab": {
          "base_uri": "https://localhost:8080/"
        },
        "id": "0WgB06MOm67Z",
        "outputId": "39602632-7f2d-40f6-e1dd-e82b9dc60031"
      },
      "execution_count": 9,
      "outputs": [
        {
          "output_type": "stream",
          "name": "stdout",
          "text": [
            "117766 - 119342 - 119987 - 123456 - 138754 - 154506 - 176539 - 187600 - 200721 - 234556 - 251982 - 253617 - 266678 - 276539 - 287651 - 289567 - 328976 - \n",
            "123456 - 119987 - 117766 - 119342 - 287651 - 176539 - 138754 - 154506 - 276539 - 187600 - 253617 - 251982 - 200721 - 234556 - 266678 - 328976 - 289567 - \n",
            "\n",
            "False\n",
            "\n",
            "('El Hobbit', 'J.R.R. Tolkien', 1937)\n",
            "\n",
            "('El Guardian entre el Centeno', 'J. D. Salinger', 1951)\n"
          ]
        }
      ]
    }
  ]
}